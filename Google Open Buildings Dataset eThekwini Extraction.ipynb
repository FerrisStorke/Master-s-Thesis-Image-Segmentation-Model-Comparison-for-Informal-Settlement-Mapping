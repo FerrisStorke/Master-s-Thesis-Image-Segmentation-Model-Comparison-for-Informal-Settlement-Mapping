{
 "cells": [
  {
   "cell_type": "code",
   "execution_count": 2,
   "id": "c34f34f6",
   "metadata": {},
   "outputs": [],
   "source": [
    "import pandas as pd"
   ]
  },
  {
   "cell_type": "code",
   "execution_count": 3,
   "id": "9bbbdd67",
   "metadata": {},
   "outputs": [
    {
     "data": {
      "text/plain": [
       "2191104"
      ]
     },
     "execution_count": 3,
     "metadata": {},
     "output_type": "execute_result"
    }
   ],
   "source": [
    "df = pd.read_csv(\"/Users/ferris/eThekwini/Google Open Buildings Dataset/1ef_buildings.csv\")\n",
    "len(df)"
   ]
  },
  {
   "cell_type": "code",
   "execution_count": null,
   "id": "2ce16b29",
   "metadata": {},
   "outputs": [],
   "source": [
    "# Coordinates of aerial photography: 31.021631,-29.656730 bl: 30.998424 -29.676642\n",
    "# 30.989527,-29.655551 31.031088,-29.683361"
   ]
  },
  {
   "cell_type": "markdown",
   "id": "4f3b5b81",
   "metadata": {},
   "source": [
    "* Most Northern Latitude: -29.5452\n",
    "* Most Southern Latitude: -30.121400\n",
    "* Most Eastern Longitude: 31.2085\n",
    "* Most Western Longitude: 30.5594"
   ]
  },
  {
   "cell_type": "code",
   "execution_count": 5,
   "id": "e1c1e653",
   "metadata": {},
   "outputs": [
    {
     "data": {
      "text/plain": [
       "34408"
      ]
     },
     "execution_count": 5,
     "metadata": {},
     "output_type": "execute_result"
    }
   ],
   "source": [
    "# Create df of Google Open Buildings Dataset for aerial photography coordinates\n",
    "df_ocl = df[(df[\"latitude\"] <= -29.655551) &\n",
    "            (df[\"latitude\"] >= -29.683361) &\n",
    "            (df[\"longitude\"] >= 30.989527) &\n",
    "            (df[\"longitude\"] <= 31.031088)]\n",
    "df_ocl.to_csv('/Users/ferris/eThekwini/Google Open Buildings Dataset/1ef_buildings_ethekwini_df_ocl.csv', index=False)\n",
    "len(df_ocl)"
   ]
  }
 ],
 "metadata": {
  "kernelspec": {
   "display_name": "Python 3 (ipykernel)",
   "language": "python",
   "name": "python3"
  },
  "language_info": {
   "codemirror_mode": {
    "name": "ipython",
    "version": 3
   },
   "file_extension": ".py",
   "mimetype": "text/x-python",
   "name": "python",
   "nbconvert_exporter": "python",
   "pygments_lexer": "ipython3",
   "version": "3.9.6"
  }
 },
 "nbformat": 4,
 "nbformat_minor": 5
}
